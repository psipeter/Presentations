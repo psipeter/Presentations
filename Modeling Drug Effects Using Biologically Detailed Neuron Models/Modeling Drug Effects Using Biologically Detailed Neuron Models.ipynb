{
 "cells": [
  {
   "cell_type": "markdown",
   "metadata": {},
   "source": [
    "# Modeling Drug Effects Using Biologically Detailed Neuron Models\n",
    "Peter Duggins\n",
    "\n",
    "Computational Neuroscience Research Group, University of Waterloo\n",
    "\n",
    "Nengo Summer School 2016\n",
    "\n",
    "June 16, 2016"
   ]
  },
  {
   "cell_type": "markdown",
   "metadata": {},
   "source": [
    "## Why should we build biologically plausible neuron models?"
   ]
  },
  {
   "cell_type": "markdown",
   "metadata": {},
   "source": [
    " - ### More computational power than simple artificial neurons"
   ]
  },
  {
   "cell_type": "markdown",
   "metadata": {},
   "source": [
    "Incorporating low-level biological details into computational neuroscience models is a lot of work, so we should begin by asking if it is a worthwhile pursuit. One reason that these details may turn out to be important is that evolution isn’t usually wasteful: many of the biological mechanisms in a neuron may contribute to information processing in the brain. The differences between the capabilities of biological neurons and classical point neuron support the hypothesis that biological mechanisms play some useful computational role."
   ]
  },
  {
   "cell_type": "markdown",
   "metadata": {},
   "source": [
    " - ### Utilize this power to engineer better computational neural systems"
   ]
  },
  {
   "cell_type": "markdown",
   "metadata": {},
   "source": [
    "Since artificial neural networks emerged as a field in cognitive and computer science, progress has been strongly informed by principles from neuroscience. For example, the NEF utilizes heterogeneity for representation and spikes for power savings, and future work may incorporate nonlinear dendritic summation for compact computation."
   ]
  },
  {
   "cell_type": "markdown",
   "metadata": {},
   "source": [
    " - ### Required to understand the unique computational features of biological cognition"
   ]
  },
  {
   "cell_type": "markdown",
   "metadata": {},
   "source": [
    "Many mental disorders are caused by neurotransmitter imbalances, which require detailed neuron models to simulate and study in context. Similarly, the effects of drugs on the brain, both for the treatment of such disorders or for recreation, are best understood through their neurochemical effect on the targeted brain regions. Relatedly, modulatory systems in the brain, especially those involved in emotion, utilize neuromodulators to control other brain regions. For example, acetylcholine has been implicated in directing and sustaining attention, while norepinephrine is involved in coordinating fear responses."
   ]
  },
  {
   "cell_type": "markdown",
   "metadata": {},
   "source": [
    "### Which details are significant?"
   ]
  },
  {
   "cell_type": "markdown",
   "metadata": {},
   "source": [
    "While some biological features are undoubtedly important for understanding computation in the brain, others exist purely to sustain neurons as living cells, while others still may be outdated evolutionary artifacts that could be dispensed with in a system designed by an intelligent engineer.\n",
    "\n",
    " - Why do we need hundreds of neurotransmitters in the brain? If the standard view that neurotransmitters strictly excite or inhibit downstream cells is correct, having this many would be redundant. This suggests that they may play a more complex role, such as modulatory control. <img src=\"images/Chemical-Structures-of-Neurotransmitters-2015_compoundchem_com.png\" width=500> \n",
    "\n",
    "\n",
    " - Dendritic spines may exist only to increase the surface area of the dendritic tree, and could be dispensed with in non-spatial computational models. However, they may also play a role in the local summation of action potentials, functioning as mini logic gates for inputs to the neuron. <img src=\"images/dendritic_spine_jbc_repress_org.jpg\" width=500> \n",
    " \n",
    " \n",
    " - Glial cells may not play any role in information processing, instead supporting neurons with nutrients, etc. Some have claimed they do perform useful functions, but to my knowledge have yet to support this claim with an explict theory or model of their contribution. <img src=\"images/glial_cells_faculty_washington_edu.gif\" width=500>\n",
    " \n",
    "It's hard to make general statements about much detail we need to include to utilize power derived from biology. Cognitive systems contain many interacting parts, and the utility of any part, be it an ensemble or single neuron, depends strongly on the  particular system and desired computation. Furthermore, biological detail can be modeled at many levels of abstraction, so exactly how a biological feature should be implemented is somewhat arbitrary."
   ]
  },
  {
   "cell_type": "markdown",
   "metadata": {},
   "source": [
    "### Method of Investigation"
   ]
  },
  {
   "cell_type": "markdown",
   "metadata": {},
   "source": [
    "1. Form a hypothesis about how biological detail might contribute to computation in a specific system\n",
    "2. Find some empirical data for that system (electrophysiological and behavioral)\n",
    "3. Build a model of the system using a principled cognitive architecture (NEF)\n",
    "4. Play with different neuron models in the simulation, seeing how different levels of biological abstraction affect dependent variables\n",
    "5. Make some conclusions about biological abstraction, simulation statistics (speed, memory, noise), and empirical accuracy"
   ]
  },
  {
   "cell_type": "markdown",
   "metadata": {},
   "source": [
    "### Objectives"
   ]
  },
  {
   "cell_type": "markdown",
   "metadata": {},
   "source": [
    " - Learn about neurobiology and the most widely accepted mathematical model of biological neurons\n",
    " - Discuss two cognitive systems, working memory and fear learning\n",
    " - Propose simple models of those cognitive systems and their implementation in the prefrontal cortex and amygdala\n",
    " - Describe the biophysical mechanisms behind two drugs that affect those systems, leading to different electrophysiology and behavior\n",
    " - Hypothesize about how the drug interacts with the model system to produce the empirical effect\n",
    " - Invent an experimental manipulation(s) that approximates the biophysical mechanism, e.g. ion channel closure decreases excitability, which we can model as a reduced bias term in LIF neurons\n",
    " - Apply the manipulation and compare with empirical data, which in our systems come from monkeys and rats given the drugs\n"
   ]
  },
  {
   "cell_type": "markdown",
   "metadata": {},
   "source": [
    "## Biologically detailed neurons"
   ]
  },
  {
   "cell_type": "markdown",
   "metadata": {},
   "source": [
    "### Hodgkin-Huxley Model"
   ]
  },
  {
   "cell_type": "markdown",
   "metadata": {},
   "source": [
    "With respect to information processing, voltage is the most important internal property of cell. Spikes are rapid, all-or-none upswings in voltage that are the basis of communication with downstream neurons and biological information processing. To understand neural communication, we model the process by which a presynaptic neuron changes the voltage in the post-synaptic neuron.\n",
    "\n",
    "Neurons consist of three main units:\n",
    "\n",
    " - The dendrites receive incoming signals from many presynaptic neurons and transduce a neurochemical signal into an electrical signal (encoding)\n",
    " \n",
    " - The soma collects all the signals from the dendrites and decides whether or not to generate a spike (neural nonlinearity)\n",
    " \n",
    " - The axon allows the spike to propagate over a long distance, then transduces the spike back into neurochemical signals for communication to downstream neurons across the synapse (decoding)\n",
    " \n",
    "Most of the computationally relevant stuff occurs in the synapse and dendrites, so we’ll focus on them. A segment of dendrite can be modeled as a compartment enclosed by the cell membrane. Ions like $Na^+$ and $K+$ present inside and outside in different concentrations. Unequal charge inside vs. outside the cell creates a voltage across membrane. \n",
    "\n",
    "<img src=\"images/ion_concentration.gif\" width=500>\n",
    "\n",
    "Ion channels are transmembrane proteins that allow ions to flow into or out of the cell, creating an inward or outward current whose magnitude and direction of flow depends on\n",
    "\n",
    " - ion concentrations\n",
    " - transmembrane voltage\n",
    " - conductivity of the ion channel\n",
    " \n",
    "We can use Ohm’s law and Kirchoff’s law to find change in voltage\n",
    "\n",
    "$I_{ion} = g_{ion} * (V - E_{ion})$\n",
    "\n",
    "$\\frac{dV}{dt} = \\frac{1}{c_m} (I_{ext} + \\sum_{ion} I_{ion})$\n",
    "\n",
    "Ion channels have pieces called gates which must align in a certain way to open or close the channel\n",
    "\n",
    "<img src=\"images/voltage_gated_channel_wikipedia.jpg\" width=500>\n",
    "\n",
    "Opening or closing of gates causes changes in the membrane conductance $g_{ion}$. These gates change alignment in response to binding by neurotransmitters (outside the cell) and/or changes in the voltage across the membrane. In the Hodgkin-Huxley model, differential equations describe how each gate transitions between the aligned and nonaligned states depending on voltage and neurotransmitter binding. For instance\n",
    "\n",
    "$\\frac{dn}{dt}=\\alpha_n(V)(1-n) - \\beta_n(V)(n)$\n",
    "\n",
    "$\\frac{dm}{dt}=\\alpha_m(V)(1-m) - \\beta_m(V)(m)$\n",
    "\n",
    "$\\frac{dh}{dt}=\\alpha_h(V)(1-h) - \\beta_h(V)(h)$\n",
    "\n",
    "where $n$ is the activation gate for the $K+$ channel, $m$ and $h$ are the activation and inactivation gates for the $Na+$ channel, and $\\alpha$ and $\\beta$ are voltage-dependent functions fit to experimental data. \n",
    "\n",
    "Spikes, or rapid upswings in the membrane voltage, are generated by positive feedback between increasing voltage and opening voltage-gated $Na+$ channels, which let positive current into the cell; they are transient because $K+$ channels open when voltage becomes highly positive, letting positive ions flow out of the cell, causing a negative current. Nonlinear interactions between voltage-dependent opening and closing of ion channels determine the voltage “threshold” for a spike to be generated.\n",
    "\n",
    "<img src=\"images/spike_generation_cognitive_consonance.jpg\" width=500>\n",
    "\n",
    "Spikes propagate from their origin down the dendritic tree, opening more downstream voltage-gated ion channels, increasing ionic currents at that point, and causing a travelling wave of increased voltage.\n",
    "\n",
    "<img src=\"images/axon_potential_wave_cnx_org.png\" width=500>\n",
    "\n",
    "\n",
    "The cable equation describes how current flows from one dendritic segment to a neighbor, but we'll skip this for brevity.\n",
    "\n",
    "All the dendritic spikes converge in the soma, where similar mechanisms may generate a larger spike that then travels down the axon. At the axon terminus, voltage causes vesicles containing neurotransmitters to fuse with the inside of the cell membrane and release their contents into the synaptic cleft. Neurotransmitters cross the gap between the neurons, bind to receptors on dendrites in the post-synaptic neuron, open ion channels, and start the process again.\n",
    "\n",
    "<img src=\"images/axon_terminal_apsubiology_org.jpg\" width=500>"
   ]
  },
  {
   "cell_type": "markdown",
   "metadata": {},
   "source": [
    "### Human Brain Project"
   ]
  },
  {
   "cell_type": "markdown",
   "metadata": {},
   "source": [
    "The most biologically detailed neuron models to date are used to simulate cortical microcolumns in the Human Brain Project (HBP), a large collaboration of scientists based mostly in Europe. Their models utilize the HH formalism, but incorporate more physical structure into each neuron and specificy t he connectivity between neurons. The group conducted an exhaustive literature review to identify and group cortical neurons into categories based on:\n",
    "\n",
    " - Morphological features - how the cells are physically structured, branching statistics of dendritic trees, etc.\n",
    " - Molecular features - neurotransmitter receptors, ion channels, etc.\n",
    " - Electrophysiological features - resting membrane potential and membrane time constant, types of spiking and bursting behavior\n",
    " \n",
    "They then gathered statistics on how many neurons of each morpho-electrical type were present in cortical tissue and their probability of connecting to one another. Finally, they reconstructed a small piece of cortical tissue with these detailed cells in the programming language NEURON, which uses the HH-equations to simulate electrical activity within the cells. They showed that the simulated circuit reproduced several aggregate spiking statistics in real tissue.\n",
    "\n",
    "<img src=\"images/markram_abstract.png\" width=500>"
   ]
  },
  {
   "cell_type": "markdown",
   "metadata": {},
   "source": [
    "### Comparison to the NEF"
   ]
  },
  {
   "cell_type": "markdown",
   "metadata": {},
   "source": [
    "The HH-model, in combination with the reconstruction techniques applied in the HBP, simulate the physical and electrical detail of biological neurons in amazing, which is an impressive feat. However, they are not designed to understand information is represented and transformed in neural systems. They therefore fail to address the original questions:\n",
    "\n",
    " - How can we utilize the biological detail of neurons to engineer more powerful computational systems?\n",
    " - How can we treat mental disorders stemming from imbalances of neurotransmitters?\n",
    " \n",
    "Instead of trying to build theoretical frameworks around highly-detailed biological models, I believe it’s better to start with the NEF, build functional models of the systems in question, and introduce biological detail in small doses wherever it may prove useful. I take this approach to studying the effects of drugs in the section below."
   ]
  },
  {
   "cell_type": "markdown",
   "metadata": {},
   "source": [
    "## Modeling the Effects of Drugs"
   ]
  },
  {
   "cell_type": "markdown",
   "metadata": {},
   "source": [
    "### Working Memory"
   ]
  },
  {
   "cell_type": "markdown",
   "metadata": {},
   "source": [
    "Working memory (WM) is a dynamical system that maintains current represented value and can be written to and read from. In NEF, WM is built from the standard neural integrator, a recurrently connected ensemble with inputs:\n",
    "\n",
    "<img src=\"images/integrator.png\" width=500>\n",
    "\n",
    "$xdot(t)=A’x(t)+B’u(t)$\n",
    "\n",
    "with $A’=1$ and $B’=tau$, the synaptic time constant. This integrator is not perfect - the represented value decays over time without input and is noisy.\n",
    "\n",
    "A typical WM task is the spatial delayed-response task (DRT), in which monkeys are presented with a brief (1s) visual cue positioned relative to their fixed gaze. The cue is removed. During the delay period (2, 4, 6, or 8s), the monkey stores the cue location in WM, then recalls that location in the response period by pressing the corresponding button or making a saccade.\n",
    "If you plot the likelihood of correct response as a function of delay period length for a one-dimensional DRT (left-right cues),  accuracy decreases steadily from 2-6s then drops sharply at 8s.\n",
    "\n",
    "<img src=\"images/delayed_response_task_jn_physiology_org.jpg\" width=500>\n",
    "\n",
    "\n",
    "To study the effects of drugs on animals performing this task, we want to improve or break working memory through some biological process not immediately model-able by standard nengo models. Guanfacine (GFC) and Phenylephrine (PHE) are two drugs that, when injected into the prefrontal cortex, shift the forgetting curve up/down in monkeys, and so are said to improve/impair WM. \n",
    "\n",
    "Physiologically, GFC and PHE work by closing HCN channels, specialized ion channels present in certain cells in the brain. At rest, HCN channels permit the influx of non-specific cations, but deactivate in response to depolarization. HCN channels are unevenly distributed along the dendritic tree, with an almost sevenfold increase in density from the somatic to distal end of the dendrites. These properties allow HCN channels to reduce the temporal variability of dendritic excitatory postsynaptic potentials (EPSPs) that exists due to spatial distribution along the dendritic tree. It is believed that these channels control the excitability of pyramidal neurons in PFC by modulating the temporal dendritic summation and resting potential.\n",
    "\n",
    "Equipped with some knowledge about how the drugs work in biological neurons, we can form a hypothesis about drug’s effects in the system. Neurons with encoders in direction of stimulus become active when stimulus is present, according to the encoding equation:\n",
    "\n",
    "$a_i=G[\\alpha_i x \\cdot e_i + \\beta_i]$\n",
    "\n",
    "Any neuron whose encoder $e_i$ is aligned with the stimulus $x$ will produce a large activity $a_i$. Drugs which increase activities of these “on” neurons but not the “off” neurons will increase the decoded value:\n",
    "\n",
    "$\\hat{x}=\\sum a_i d_i$\n",
    "\n",
    "Empirically, GFC and PHE only affect the activity of neurons whose preferred direction is aligned with the cue in the DRT. However, the drugs are applied to all neurons in the prefrontal cortex, so in our model it’s unfair to apply the drug only to neurons with certain $e_i$.\n",
    "\n",
    "There are two methods for approximating how GFC and PHE affect the system:\n",
    "\n",
    "1. Positively stimulate all neurons using a stimulus node which outputs a positive value to the WM ensemble and hope that recurrent dynamics will favor neurons with proper spatial mnemonic tuning (only increase $a_i$ for neurons with appropriate $e_i$)\n",
    "\n",
    "2. Change the gain $\\alpha_i$ of each neuron so that it responds more strongly to inputs. This can be accomplished in nengo by creating a custom node class that behaves like a normal ensemble, but has methods for setting encoders, alpha, and bias. Then hope that increasing alpha will keep unaligned neurons quiet but increase the activity of neurons with appropriate $e_i$. Thanks to Xuan Choo for this implementation.\n",
    "\n",
    "Both methods abstract away from actual biophysical effect (HCN channel opening/closing) but may still reproduce the electrophysiological and behavioral data. \n",
    "\n",
    "Our results show that applying either changes increases (decreases) the firing rate for neurons with the appropriate tuning curves without changing the firing rate the other neurons:\n",
    "\n",
    "<img src=\"images/activities_gfc.png\" width=500>\n",
    "<img src=\"images/activities_phe.png\" width=500>\n",
    "\n",
    "This differential change in activity causes a coherent increase in represented value:\n",
    "\n",
    "<img src=\"images/integrator_value.png\" width=500>\n",
    "\n",
    "This coherent change in representation improves the performance on spatial DRT over time, because the represented value is distinguishable from zero for longer\n",
    "\n",
    "<img src=\"images/forgetting.png\" width=500>\n",
    "\n",
    "In conclusion, the drug works by affecting the representation of the stimulus location in working memory. As long as simulated change in neurons affects representation in a manner that agrees with the physiological evidence on neurons' preferred directions, we don’t need to make a full biophysical model of neurons to capture the drug’s effects in the system."
   ]
  },
  {
   "cell_type": "markdown",
   "metadata": {},
   "source": [
    "## Fear Conditioning"
   ]
  },
  {
   "cell_type": "markdown",
   "metadata": {},
   "source": [
    "In tasks related to fear learning, extinction, and expression, animals learn an association between a neutral stimulus (auditory tone) and an aversive stimulus (footshock). When the neutral stimulus is presented alone, animal should exhibit the fear response (freezing). The experimental design for this training and testing is simple: present tones and coincident footshocks to the animal some number of times, then present just tone and observe how often it freezes.\n",
    "\n",
    "We can model fear conditioning using a simple circuit that relies on one of nengo's learning rules. There are two stimulus populations, US=unconditioned stimulus (shock) and CS=conditioned stimulus (tone). The lateral amygdala (LA) population represents the presence of US and the current fear response to CS (2 dimensions. One error population calculates the difference between ideal response to CS and the current response to CS. Finally one motor population represents the animal's movement, which is normally active but is inhibited by LA during fear expression.\n",
    "\n",
    "<img src=\"images/fear_model.png\" width=500>\n",
    "\n",
    "The simulation proceeds as follows. During the training phase, a CS stimulus turns on for 10s and the US turns on for the last 2s of CS, constituting a single “pairing” or training example. The connection between CS and LA is initially set to zero but updated through the PES learning rule (credit goes to Trevor Bekolay and crew). The error population receives inputs from the LA and computes $f(x)=US-CS$; it is forced positive by the tuning curve distribution (all LIF intercepts above zero). During training, the error population changes the CS-LA connection, so that future CS stimulus will invoke larger response in LA. During testing, the CS is presented without the US. When LA is active, it inhibits the motor population, causing fear-induced freezing.\n",
    "\n",
    "Injecting the drug muscimol into the lateral amygdala has been shown empirically to have two fear-related effects:\n",
    "\n",
    " - Reduced fear learning when applied during training\n",
    " - Reduced fear expression when applied during testing\n",
    " \n",
    "<img src=\"images/muscimol_empirical.png\" width=500>\n",
    "\n",
    "Biophysically, muscimol is a GABA agonist, meaning that it binds to receptors in the cell membrane which usually are reserved for the neurotransmitter GABA. Because inhibitory neurons in the amygdala have a high number of GABA receptors, injecting muscimol dampens activity in LA neurons by exciting an inhibitory population.\n",
    "\n",
    "My hypothesis was that neurons in LA represent both fear response and are used to calculate error-based learning. This has the consequence that inhibiting these neurons will both reduce fear response and slow fear learning. \n",
    "\n",
    "To approximate the effects of muscimol, it is not sufficient to injecting negative stimulus into the LA using a stimulus node. Why do you think this is? The answer is somewhat subtle, but an important distinction in the NEF. Negative stimulus increases the activity of neurons with encoders in the negative direction, whereas inhibition in biological brains decreases the activity of all neurons equally, by opening ion channels that let negative ions into, or positive ions out of, the cell. To simulate this effect, without incorporating a full biophysical neuron model, we need to bypass the encoders and feed negative value directly onto the somas of the neurons. There are two ways to do this:\n",
    "\n",
    "1. Create a nengo connection directly onto the somas using ```nengo.connection(stimulus, target.neurons, transform=-1*np.ones([n_neurons,1]))```. This has a problem: it messes up whatever function is computed by the existing connection weights between CS and LA.\n",
    "\n",
    "2. Use the Parisien transform, a mathematical tool developed by Chris Parisien, Charles Anderson, and Chris Eliasmith. In the NEF, connection weights from one ensemble to another have a mix of positive and negative sines, but in biological brains, almost all neurons are either excitatory or inhibitory, and neurons of both type exist in any population. The Parisien transform takes a normal NEF connection between A and B, creates a third ensemble C which projects with only negative connections to B.neurons, and recomputes the connection weights between A-B, A-C, and C-B so that the original function is preserved.\n",
    "\n",
    "<img src=\"images/parisien.png\" width=500>\n",
    "\n",
    "I used option 2 to create an inhibitory neuron population in LA, which we know exists in biological brains. I then used a stimulus node to excite the inhibitory neurons, which mimics the biophysical effect of muscimol while preserving the learned transformations.\n",
    "\n",
    "In study whether this model and approximation of the drug effect reproduced the empirical findings, I ran two experiments:\n",
    "\n",
    "1. Apply the drug during training and see if fear response is reduced during testing\n",
    "1. Apply the drug during testing and see if fear response is reduced during testing\n",
    "\n",
    "It does!\n",
    "\n",
    "<img src=\"images/muscimol_model.png\" width=500>\n",
    "\n",
    "In conclusion, the drug works by modulating a population which has the dual responsibility of representing the fear response and learning that response during training. To simulate its biological mechanism, I had to more faithfully reproduce biological networks with distinct excitation and inhibition. Luckily, Terry's code fot the Parisien transform was the appropriate tool for this job."
   ]
  },
  {
   "cell_type": "markdown",
   "metadata": {},
   "source": [
    "## Extensions"
   ]
  },
  {
   "cell_type": "markdown",
   "metadata": {},
   "source": [
    "In these two examples, we found an approximation for the drug effect that could be realized by changing parameters in LIF neurons. \"But this was supposed to be a tutorial on biologically detailed neuron models!\" you say. It's true that substituting more detailed neuron models, in which ion channels can directly be blocked, will provide a better baseline for judging the efficacy and efficiency of these approximations. They are also probably necessary to capture the effects of some drugs, whose complex interactions with cell biochemistry can't be easily approximated by tweaking LIF neurons or network structure.\n",
    "\n",
    "NEURON and Jan’s nengo-NEURON interface ```nengo_detailed_neurons``` allow us to simulate biological detail using the HH model described above. Many drugs operate by opening/closing specific ion channels, and in NEURON, we can manipulate these channels, while leaving other properties of the neuron alone, by varying $g_{ion}$. Then the simulation deals with all the nonlinear interactions between the cell’s membrane currents and voltage-dependent ion-channel gating. However, specifying the magnitude of change in $g_{ion}$ in response to a drug is arbitrary, or at least difficult to relate to the amount of neurotransmitters injected in an empirical experiment. Using NEURON, you can also do fancy things like building a dendritic tree and specifying where the synaptic connections occur, or download the NEURON models from the HBP’s [neocortical microcircuit portal](https://bbp.epfl.ch/nmc-portal/downloads) and use these data to calibrate models of cortical systems.\n",
    "\n",
    "Unfortunately, I am not yet experienced in using ```nengo_detailed_neurons```, so come back to the summer school next year for more exciting, biologically detailed drug simulations!\n"
   ]
  }
 ],
 "metadata": {
  "kernelspec": {
   "display_name": "Python 2",
   "language": "python",
   "name": "python2"
  },
  "language_info": {
   "codemirror_mode": {
    "name": "ipython",
    "version": 2
   },
   "file_extension": ".py",
   "mimetype": "text/x-python",
   "name": "python",
   "nbconvert_exporter": "python",
   "pygments_lexer": "ipython2",
   "version": "2.7.9"
  }
 },
 "nbformat": 4,
 "nbformat_minor": 0
}
